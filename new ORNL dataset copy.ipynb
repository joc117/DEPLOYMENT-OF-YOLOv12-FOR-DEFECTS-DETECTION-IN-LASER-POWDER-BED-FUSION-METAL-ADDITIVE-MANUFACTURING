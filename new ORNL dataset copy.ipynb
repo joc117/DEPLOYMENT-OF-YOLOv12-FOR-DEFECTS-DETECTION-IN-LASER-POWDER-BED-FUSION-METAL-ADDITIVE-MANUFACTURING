{
 "cells": [
  {
   "cell_type": "code",
   "execution_count": 3,
   "id": "0b6f4147-71e0-43f6-866b-52e54c5cc697",
   "metadata": {},
   "outputs": [],
   "source": [
    "filename = '/Volumes/Extreme Pro/2024-05-01 M2 AMMTO Fatigue Blanks 05.hdf5' # Change this to your directory\n",
    "save_dir = '/Users/Joc/SMP/ORNL splitted' # Change this to your directory\n",
    "import h5py"
   ]
  },
  {
   "cell_type": "code",
   "execution_count": 1,
   "id": "be57aa00",
   "metadata": {},
   "outputs": [
    {
     "name": "stdout",
     "output_type": "stream",
     "text": [
      "Requirement already satisfied: h5py in /opt/homebrew/Cellar/jupyterlab/4.2.1/libexec/lib/python3.12/site-packages (3.12.1)\n",
      "Requirement already satisfied: numpy>=1.19.3 in /opt/homebrew/Cellar/jupyterlab/4.2.1/libexec/lib/python3.12/site-packages (from h5py) (1.26.4)\n",
      "\n",
      "\u001b[1m[\u001b[0m\u001b[34;49mnotice\u001b[0m\u001b[1;39;49m]\u001b[0m\u001b[39;49m A new release of pip is available: \u001b[0m\u001b[31;49m25.1.1\u001b[0m\u001b[39;49m -> \u001b[0m\u001b[32;49m25.2\u001b[0m\n",
      "\u001b[1m[\u001b[0m\u001b[34;49mnotice\u001b[0m\u001b[1;39;49m]\u001b[0m\u001b[39;49m To update, run: \u001b[0m\u001b[32;49m/opt/homebrew/Cellar/jupyterlab/4.2.1/libexec/bin/python -m pip install --upgrade pip\u001b[0m\n",
      "Note: you may need to restart the kernel to use updated packages.\n"
     ]
    }
   ],
   "source": [
    "pip install h5py"
   ]
  },
  {
   "cell_type": "code",
   "execution_count": null,
   "id": "4a44e87c-c220-42a8-8530-f188b09bf78f",
   "metadata": {},
   "outputs": [],
   "source": [
    "\n",
    "import matplotlib.pyplot as plt\n",
    "import os\n",
    "\n",
    "\n",
    "with h5py.File(filename, 'r') as f:\n",
    "    for i in range (0, 1000):\n",
    "        data = f['slices/registered_data/x-ray_ct_data'][i, 7200:8100, 1720:2620]\n",
    "\n",
    "        save_filename = f'slice_{i}.png'\n",
    "        save_path = os.path.join(save_dir, save_filename)\n",
    "    \n",
    "    \n",
    "        plt.imshow(data, aspect=\"auto\", cmap='gray')\n",
    "        plt.gca().set_aspect(\"equal\")\n",
    "        plt.show()\n",
    "    \n",
    "\n",
    "        os.makedirs(save_dir, exist_ok=True)\n",
    "        plt.imsave(save_path, data, cmap='gray')\n",
    "        print(f\"Image saved to {save_path}\")\n",
    "\n",
    "\n",
    "\n"
   ]
  }
 ],
 "metadata": {
  "kernelspec": {
   "display_name": "Python 3 (ipykernel)",
   "language": "python",
   "name": "python3"
  },
  "language_info": {
   "codemirror_mode": {
    "name": "ipython",
    "version": 3
   },
   "file_extension": ".py",
   "mimetype": "text/x-python",
   "name": "python",
   "nbconvert_exporter": "python",
   "pygments_lexer": "ipython3",
   "version": "3.12.3"
  }
 },
 "nbformat": 4,
 "nbformat_minor": 5
}
